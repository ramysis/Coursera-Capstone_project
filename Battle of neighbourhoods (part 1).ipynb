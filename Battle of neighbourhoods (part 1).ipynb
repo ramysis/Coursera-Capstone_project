{
    "cells": [
        {
            "cell_type": "markdown",
            "metadata": {
                "collapsed": true
            },
            "source": "# <center><u>Battle of Neighbourhoods</u> (week 1)"
        },
        {
            "cell_type": "markdown",
            "metadata": {},
            "source": "## <center>Clustering the neighbourhoods of London and Toronro"
        },
        {
            "cell_type": "markdown",
            "metadata": {},
            "source": "# <u>Introduction"
        },
        {
            "cell_type": "markdown",
            "metadata": {},
            "source": "Studying abroad is an essential part of a lot of students University experience. This is because they not only want to study at a great establishment but also want to explore the new city that they are going to be living in for the next few years. So you could say that they are tourists who are also studying. We will be focusing on students that want to study in an English speaking country as they want to develop their knowledge of the language but are having difficulties deciding which country they want to explore.\n\nLondon and Toronto are quite the popular tourist destinations for people all around the world. They are diverse and multicultural and offer a wide variety of experiences that is widely sought after. We try to group the neighbourhoods of London and Toronto respectively and draw insights to what they look like now."
        },
        {
            "cell_type": "markdown",
            "metadata": {},
            "source": "# <u>Business problem"
        },
        {
            "cell_type": "markdown",
            "metadata": {},
            "source": "The aim is to help international students choose their destinations depending on the experiences that the neighbourhoods have to offer and what they would want to have. This also helps people make decisions if they are thinking about living in London or Toronto. Our findings will help the international students make informed decisions and address any concerns they have including the different kinds of cuisines, provision stores and what the city has to offer.\n\n"
        },
        {
            "cell_type": "markdown",
            "metadata": {},
            "source": "# <U>Data Description"
        },
        {
            "cell_type": "markdown",
            "metadata": {},
            "source": "We require geolocation data for both London and Toronto. Postal codes in each city serve as a starting point. Using Postal codes we use can find out the neighbourhoods, boroughs, venues and their most popular venue categories."
        },
        {
            "cell_type": "markdown",
            "metadata": {},
            "source": "## London"
        },
        {
            "cell_type": "markdown",
            "metadata": {},
            "source": "To derive our solution, We scrape our data from https://en.wikipedia.org/wiki/List_of_areas_of_London\n\nThis wikipedia page has information about all the neighbourhoods, we limit it London.\n\n1. borough : Name of Neighbourhood\n2. town : Name of borough\n3. post_code : Postal codes for London.\n\nThis wikipedia page lacks information about the geographical locations. To solve this problem we use ArcGIS API"
        },
        {
            "cell_type": "markdown",
            "metadata": {},
            "source": "## ArcGIS API"
        },
        {
            "cell_type": "markdown",
            "metadata": {},
            "source": "ArcGIS Online enables you to connect people, locations, and data using interactive maps. Work with smart, data-driven styles and intuitive analysis tools that deliver location intelligence. Share your insights with the world or specific groups.\n\nMore specifically, we use ArcGIS to get the geo locations of the neighbourhoods of London. The following columns are added to our initial dataset which prepares our data.\n\n1. latitude: Latitude for Neighbourhood\n2. longitude: Longitude for Neighbourhood"
        },
        {
            "cell_type": "markdown",
            "metadata": {},
            "source": "## Toronto"
        },
        {
            "cell_type": "markdown",
            "metadata": {},
            "source": "To derive our solution, We scrape our data from https://en.wikipedia.org/wiki/List_of_postal_codes_of_Canada:_M\n\n1. borough : Name of Neighbourhood\n2. town : Name of borough\n3. post_code : Postal codes for Toronto.\n\nThis wikipedia page lacks information about the geographical locations, so we will be using the link provided for us in week 3 of this course: https://cocl.us/Geospatial_data"
        },
        {
            "cell_type": "markdown",
            "metadata": {},
            "source": "## Foursquare API"
        },
        {
            "cell_type": "markdown",
            "metadata": {},
            "source": "We will need data about different venues in different neighbourhoods of that specific borough. In order to gain that information we will use \"Foursquare\" locational information. Foursquare is a location data provider with information about all manner of venues and events within an area of interest. Such information includes venue names, locations, menus and even photos. As such, the foursquare location platform will be used as the sole data source since all the stated required information can be obtained through the API.\n\nAfter finding the list of neighbourhoods, we then connect to the Foursquare API to gather information about venues inside each and every neighbourhood. For each neighbourhood, we have chosen the radius to be 500 meters.\n\nThe data retrieved from Foursquare contained information of venues within a specified distance of the longitude and latitude of the postcodes. The information obtained per venue as follows:\n\n1. Neighbourhood : Name of the Neighbourhood\n2. Neighbourhood Latitude : Latitude of the Neighbourhood\n3. Neighbourhood Longitude : Longitude of the Neighbourhood\n4. Venue : Name of the Venue\n5. Venue Latitude : Latitude of Venue\n6. Venue Longitude : Longitude of Venue\n7. Venue Category : Category of Venue\n\nBased on all the information collected for both London and Toronto, we have sufficient data to build our model. We cluster the neighbourhoods together based on similar venue categories. We then present our observations and findings. Using this data, the international students can take the necessary decision."
        }
    ],
    "metadata": {
        "kernelspec": {
            "display_name": "Python 3.7",
            "language": "python",
            "name": "python3"
        },
        "language_info": {
            "codemirror_mode": {
                "name": "ipython",
                "version": 3
            },
            "file_extension": ".py",
            "mimetype": "text/x-python",
            "name": "python",
            "nbconvert_exporter": "python",
            "pygments_lexer": "ipython3",
            "version": "3.7.9"
        }
    },
    "nbformat": 4,
    "nbformat_minor": 1
}